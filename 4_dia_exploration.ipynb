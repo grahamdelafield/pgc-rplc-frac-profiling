{
 "cells": [
  {
   "cell_type": "code",
   "execution_count": null,
   "metadata": {},
   "outputs": [],
   "source": [
    "import numpy as np \n",
    "import pandas as pd \n",
    "import altair as alt\n",
    "import re \n",
    "import ntpath \n",
    "from commons import data_processing\n",
    "from commons.APICallers import uniprot\n",
    "# from commons.common_objects import alt_axis\n",
    "from matplotlib import pyplot as plt \n",
    "from venn import venn\n",
    "from scipy.stats import gaussian_kde\n",
    "import warnings\n",
    "\n",
    "warnings.filterwarnings('ignore')\n",
    "alt.data_transformers.disable_max_rows()"
   ]
  },
  {
   "cell_type": "code",
   "execution_count": null,
   "metadata": {},
   "outputs": [],
   "source": [
    "files = data_processing.get_files('./data/DIA/', exts=['.tsv'])\n",
    "\n",
    "df = pd.DataFrame()\n",
    "for file in files:\n",
    "    spl = re.split(r'[\\\\\\/]', file)\n",
    "    # data = pd.read_parquet(file)\n",
    "    data = pd.read_csv(file, delimiter='\\t')\n",
    "    data.loc[:, 'column'] = spl[-2]\n",
    "\n",
    "    df = pd.concat([df, data])\n",
    "    df.reset_index(inplace=True, drop=True)\n",
    "df"
   ]
  },
  {
   "cell_type": "code",
   "execution_count": null,
   "metadata": {},
   "outputs": [],
   "source": [
    "columns = [c.lower().replace('.', '_') for c in df.columns]\n",
    "df.columns = columns\n",
    "\n",
    "df.loc[:, 'sample'] = df.run.map(lambda x: x.split('_')[-3])\n",
    "df.loc[:, 'tech_rep'] = df.run.map(lambda x: x.split('_')[-1])\n",
    "\n",
    "df"
   ]
  },
  {
   "cell_type": "code",
   "execution_count": null,
   "metadata": {},
   "outputs": [],
   "source": [
    "exp = df.copy()\n",
    "print(len(exp))\n",
    "exp.loc[:, 'protein_ids'] = exp.protein_ids.str.split(';')\n",
    "exp = exp.explode('protein_ids')\n",
    "print(len(exp))"
   ]
  },
  {
   "cell_type": "code",
   "execution_count": null,
   "metadata": {},
   "outputs": [],
   "source": [
    "from venn import venn \n",
    "\n",
    "for sample in exp['sample'].unique():\n",
    "    small = exp[exp['sample']==sample]\n",
    "    overlap = {}\n",
    "    for column in small.column.unique():\n",
    "        overlap[column] = set(small[small.column==column].protein_ids.tolist())\n",
    "    venn(overlap)"
   ]
  },
  {
   "cell_type": "code",
   "execution_count": null,
   "metadata": {},
   "outputs": [],
   "source": [
    "files = data_processing.get_files('./data/DIA/', exts=['.csv'])\n",
    "\n",
    "df = pd.DataFrame()\n",
    "for file in files:\n",
    "    data = pd.read_csv(file)\n",
    "\n",
    "    df = pd.concat([df, data])\n",
    "    df.reset_index(inplace=True, drop=True)\n",
    "df"
   ]
  },
  {
   "cell_type": "code",
   "execution_count": null,
   "metadata": {},
   "outputs": [],
   "source": [
    "# rename columns\n",
    "columns = [c.lower().replace(' ', '_') for c in df.columns]\n",
    "clean_df = df.copy()\n",
    "clean_df.columns = columns\n",
    "# drop decoys\n",
    "print(f'{len(clean_df)} before decoys removed')\n",
    "clean_df = clean_df[~clean_df.protein_name.str.contains('Decoy')]\n",
    "clean_df.reset_index(inplace=True, drop=True)\n",
    "print(f'{len(clean_df)} after decoys removed')"
   ]
  },
  {
   "cell_type": "code",
   "execution_count": null,
   "metadata": {},
   "outputs": [],
   "source": [
    "sample_info = clean_df.replicate.str.split('_', expand=True)\n",
    "sample_info.columns = ['column', 'sample_name', 'acquisition', 'tech_rep']\n",
    "\n",
    "clean_df = clean_df.merge(sample_info, left_index=True, right_index=True)"
   ]
  },
  {
   "cell_type": "code",
   "execution_count": null,
   "metadata": {},
   "outputs": [],
   "source": [
    "clean_df.loc[:, 'sample_id'] = clean_df.apply(lambda x: f'{x.column}_{x.sample_name}', axis=1)\n"
   ]
  },
  {
   "cell_type": "code",
   "execution_count": null,
   "metadata": {},
   "outputs": [],
   "source": [
    "clean_df.columns"
   ]
  },
  {
   "cell_type": "code",
   "execution_count": null,
   "metadata": {},
   "outputs": [],
   "source": [
    "xs = np.linspace(0.01, 0.99, 99)\n",
    "\n",
    "\n",
    "grouped = clean_df.groupby(['sample_id', 'protein_accession', 'modified_sequence'], as_index=False).mean()\n",
    "\n",
    "# alt.Chart(grouped).mark_line().encode(\n",
    "#     x=alt.X('isotope_dot_product', bin=alt.Bin(step=0.02)),\n",
    "#     y=alt.Y('count():Q', title=''),\n",
    "#     color='sample_id'\n",
    "# )\n",
    "\n",
    "\n",
    "idotp_frame = pd.DataFrame()\n",
    "for x in xs:\n",
    "    count = grouped[grouped.isotope_dot_product>=x]\n",
    "    c = count.sample_id.value_counts()\n",
    "    data = pd.DataFrame(c).reset_index()\n",
    "    data.columns = ['sample_id', 'value']\n",
    "    data.loc[:, 'cutoff'] = x\n",
    "    data.loc[:, 'level'] = 'peptide'\n",
    "    idotp_frame = pd.concat([idotp_frame, data])\n",
    "    idotp_frame.reset_index(inplace=True, drop=True)\n",
    "    # break \n",
    "\n",
    "\n",
    "grouped = clean_df.groupby(['sample_id', 'protein_accession'], as_index=False).mean()\n",
    "for x in xs:\n",
    "    count = grouped[grouped.isotope_dot_product>=x]\n",
    "    c = count.sample_id.value_counts()\n",
    "    data = pd.DataFrame(c).reset_index()\n",
    "    data.columns = ['sample_id', 'value']\n",
    "    data.loc[:, 'cutoff'] = x\n",
    "    data.loc[:, 'level'] = 'protein'\n",
    "    idotp_frame = pd.concat([idotp_frame, data])\n",
    "    idotp_frame.reset_index(inplace=True, drop=True)"
   ]
  },
  {
   "cell_type": "code",
   "execution_count": null,
   "metadata": {},
   "outputs": [],
   "source": [
    "alt.Chart(idotp_frame).mark_line(\n",
    ").encode(\n",
    "    x=alt.X('cutoff:Q', title='iDotP',\n",
    "        ),\n",
    "    y=alt.Y('value:Q', title='Count of Peptides',\n",
    "        ),\n",
    "    color='sample_id:N',\n",
    "    column='level:N'\n",
    ").resolve_scale(\n",
    "    y='independent'\n",
    ")"
   ]
  },
  {
   "cell_type": "code",
   "execution_count": null,
   "metadata": {},
   "outputs": [],
   "source": [
    "grouped = clean_df.groupby(['sample_id', 'sample_name', 'column', 'protein_accession', 'modified_sequence'], as_index=False).mean()\n",
    "g = grouped[grouped.isotope_dot_product>=0.6]\n",
    "g = g.drop_duplicates(['sample_name', 'protein_accession'], keep=False)\n",
    "alt.Chart(g).mark_bar().encode(\n",
    "    x=alt.X('column:N', title=''),\n",
    "    y=alt.Y('distinct(protein_accession):Q', title='Proteins', stack=True),\n",
    "    color='column',\n",
    "    column='sample_name'\n",
    ")"
   ]
  },
  {
   "cell_type": "code",
   "execution_count": null,
   "metadata": {},
   "outputs": [],
   "source": [
    "fig, axs = plt.subplots(1, 2, figsize=(10, 15))\n",
    "i = 0\n",
    "for sample in clean_df.sample_name.unique():\n",
    "    small = clean_df[clean_df.sample_name==sample]\n",
    "    overlap = dict()\n",
    "    for column in ['PGC', 'RPLC']:\n",
    "        proteins = small[small.column==column].protein_accession.tolist()\n",
    "        overlap[column] = set(proteins)\n",
    "    venn(overlap, ax=axs[i])\n",
    "    axs[i].set_title(sample)\n",
    "    i+=1"
   ]
  },
  {
   "cell_type": "code",
   "execution_count": null,
   "metadata": {},
   "outputs": [],
   "source": [
    "# show general DIA stuff\n",
    "# show if proteins identified from same peptides agree in quantitation\n",
    "# show if quantitation changes when PGC peptides are accounted for"
   ]
  },
  {
   "cell_type": "code",
   "execution_count": null,
   "metadata": {},
   "outputs": [],
   "source": [
    "proteins = pd.DataFrame(clean_df.protein_accession.drop_duplicates()).reset_index(drop=True)\n",
    "rep_frame = pd.DataFrame()\n",
    "\n",
    "for sample, s_frame in data_processing.iterate_contents('sample_name', clean_df, get_item=True):\n",
    "    minor = pd.DataFrame()\n",
    "    for column, c_frame in data_processing.iterate_contents('column', s_frame, get_item=True):\n",
    "        for run in [\"run1\", \"run2\"]:\n",
    "            small = c_frame.groupby(['tech_rep', 'protein_accession'], as_index=False).mean()\n",
    "small"
   ]
  },
  {
   "cell_type": "code",
   "execution_count": null,
   "metadata": {},
   "outputs": [],
   "source": [
    "g = clean_df[clean_df.isotope_dot_product>=0.9]\n",
    "g = g.groupby(['sample_name', 'column', 'protein_accession', 'tech_rep']).sum()\n",
    "from itertools import combinations\n",
    "samples = [\"MT10\", \"T10\"]\n",
    "columns = [\"PGC\", \"RPLC\"]\n",
    "reps = [\"run1\", \"run2\"]\n",
    "g = g.reset_index('protein_accession')\n",
    "g = g.sort_index()\n",
    "p = pd.DataFrame()\n",
    "for s in samples:\n",
    "    for c in columns:\n",
    "        d = pd.DataFrame()\n",
    "        for r in reps:\n",
    "            print(s, c, r)\n",
    "            small = g.loc[(s, c, r), :]\n",
    "            data = small[['protein_accession', 'isotope_dot_product', 'total_area_ms1']]\n",
    "            data.columns = ['protein_accession', 'isotope_dot_product', f'{r}_ms1_area']\n",
    "            data = data.reset_index(drop=True)\n",
    "            data = data[['protein_accession', 'isotope_dot_product', f'{r}_ms1_area']]\n",
    "            data.loc[:, f'{r}_log2_area'] = np.log2(data[f'{r}_ms1_area'])\n",
    "            if d.empty:\n",
    "                d = data\n",
    "            else:\n",
    "                d = d.merge(data, left_on='protein_accession', right_on='protein_accession', how='outer')\n",
    "        d = d.dropna()\n",
    "        x, y = d.run1_log2_area.to_numpy(), d.run2_log2_area.to_numpy()\n",
    "        xy = np.vstack((x, y))\n",
    "        density = gaussian_kde(xy)(xy)\n",
    "\n",
    "        d.loc[:, 'sample'] = s\n",
    "        d.loc[:, 'column'] = c\n",
    "        d.loc[:, 'density'] = density\n",
    "        p = pd.concat([p, d])\n",
    "        p.reset_index(inplace=True, drop=True)\n",
    "p"
   ]
  },
  {
   "cell_type": "code",
   "execution_count": null,
   "metadata": {},
   "outputs": [],
   "source": [
    "p.describe()"
   ]
  },
  {
   "cell_type": "code",
   "execution_count": null,
   "metadata": {},
   "outputs": [],
   "source": [
    "p.loc[:, 'run1_log2_area'] = np.log2(p.run1_ms1_area)\n",
    "p.loc[:, 'run2_log2_area'] = np.log2(p.run2_ms1_area)\n",
    "\n",
    "alt.Chart(p).mark_circle(\n",
    "    size=5,\n",
    "    opacity=0.5\n",
    ").encode(\n",
    "    x=alt.X('run1_log2_area:Q', title='Run 1',\n",
    "        scale=alt.Scale(\n",
    "            domain=[20,40],\n",
    "            clamp=True\n",
    "        ),\n",
    "),\n",
    "    y=alt.Y('run2_log2_area:Q', title='Run 2',\n",
    "        scale=alt.Scale(\n",
    "            domain=[20,40],\n",
    "            clamp=True\n",
    "        ),\n",
    "),\n",
    "    color=alt.Color('density:Q', legend=None),\n",
    "    column='sample:N',\n",
    "    row='column:N'\n",
    ").properties(\n",
    "    height=100,\n",
    "    width=300\n",
    ").resolve_scale(\n",
    "    color='independent'\n",
    ")"
   ]
  },
  {
   "cell_type": "code",
   "execution_count": null,
   "metadata": {},
   "outputs": [],
   "source": [
    "small = clean_df[(clean_df['sample_name']=='MT10')&(clean_df['column']=='PGC')]\n",
    "xs = np.linspace(0.1, 0.9, 9)\n",
    "\n",
    "cutoff = pd.DataFrame()\n",
    "\n",
    "for cut in xs:\n",
    "    red = small[(small.library_dot_product>=cut)&(small.isotope_dot_product>=cut)]\n",
    "    g = red.groupby(['tech_rep', 'protein_accession']).mean()\n",
    "    g = g.dropna().reset_index()\n",
    "\n",
    "    counts = g.protein_accession.value_counts()\n",
    "    valid = counts[counts.values==2].keys()\n",
    "\n",
    "    g = g[g.protein_accession.isin(valid)]\n",
    "\n",
    "    run1 = g[g.tech_rep=='run1'].copy()\n",
    "    run2 = g[g.tech_rep=='run2'].copy()\n",
    "\n",
    "    run1.loc[:, 'log2_ms_area'] = np.log2(run1.total_area_ms1)\n",
    "    run2.loc[:, 'log2_ms_area'] = np.log2(run2.total_area_ms1)\n",
    "\n",
    "    x, y = run1.log2_ms_area.to_numpy(), run2.log2_ms_area.to_numpy()\n",
    "    xy = np.vstack((x, y))\n",
    "    density = gaussian_kde(xy)(xy)\n",
    "    print(cut, len(x))\n",
    "    s = pd.DataFrame({\n",
    "        'run1_intensity':x,\n",
    "        'run2_intensity':y,\n",
    "        'line_x':np.linspace(0,40,len(x)),\n",
    "        'line_y':np.linspace(0,40,len(x)),\n",
    "        'density':density,\n",
    "        'cutoff':cut\n",
    "    })\n",
    "\n",
    "    cutoff = pd.concat([cutoff, s])\n",
    "    cutoff.reset_index(drop=True, inplace=True)"
   ]
  },
  {
   "cell_type": "code",
   "execution_count": null,
   "metadata": {},
   "outputs": [],
   "source": [
    "cutoff"
   ]
  },
  {
   "cell_type": "code",
   "execution_count": null,
   "metadata": {},
   "outputs": [],
   "source": [
    "line = alt.Chart(cutoff).mark_line(\n",
    "    strokeDash=[5,3],\n",
    "    color='#888888'\n",
    ").encode(\n",
    "    x=alt.X('line_x',\n",
    "        scale=alt.Scale(\n",
    "            domain=[15,40],\n",
    "            clamp=True\n",
    "        )),\n",
    "    y=alt.Y('line_y',\n",
    "        scale=alt.Scale(\n",
    "            domain=[15,40],\n",
    "            clamp=True\n",
    "        ))\n",
    ")\n",
    "\n",
    "\n",
    "dots = alt.Chart(cutoff).mark_circle(\n",
    "    size=5,\n",
    "    opacity=0.8\n",
    ").encode(\n",
    "    x=alt.X('run1_intensity:Q',\n",
    "        scale=alt.Scale(\n",
    "            domain=[15,40],\n",
    "            clamp=True\n",
    "        ),\n",
    "),\n",
    "    y=alt.Y('run2_intensity:Q',\n",
    "        scale=alt.Scale(\n",
    "            domain=[15,40],\n",
    "            clamp=True\n",
    "        ),\n",
    "),\n",
    "    color='density:Q',\n",
    ").properties(\n",
    "    width=300,\n",
    "    height=100\n",
    ")\n",
    "\n",
    "alt.layer(line, dots).facet(\n",
    "    'cutoff:Q',\n",
    "    columns=3\n",
    ").resolve_scale(\n",
    "    # color='independent'\n",
    ")"
   ]
  },
  {
   "cell_type": "code",
   "execution_count": null,
   "metadata": {},
   "outputs": [],
   "source": [
    "grouped = clean_df[(clean_df.library_dot_product>=0.7)&(clean_df.isotope_dot_product>=0.7)].groupby(['sample_name', 'column', 'protein_accession', 'modified_sequence']).mean()\n",
    "grouped = grouped.reset_index()\n",
    "counts = grouped.modified_sequence.value_counts()\n",
    "valid = counts[counts.values==4].keys()\n",
    "grouped = grouped[grouped.modified_sequence.isin(valid)]\n",
    "grouped = grouped.groupby(['sample_name', 'column', 'protein_accession']).sum()\n",
    "grouped\n",
    "\n",
    "samples = [\"MT10\", \"T10\"]\n",
    "columns = [\"PGC\", \"RPLC\"]\n",
    "\n",
    "protein_comparison = pd.DataFrame()\n",
    "\n",
    "for s in samples:\n",
    "    d = pd.DataFrame()\n",
    "    for c in columns:\n",
    "        small = grouped.loc[(s, c), :]\n",
    "        data = small[['total_area_ms1']]\n",
    "        data.columns = [f'{c}_ms1_area']\n",
    "        data.loc[:, f'{c}_log2'] = np.log2(data[f'{c}_ms1_area'])\n",
    "        # data.loc[:, 'column'] = c\n",
    "        data.loc[:, 'sample'] = s\n",
    "        \n",
    "        if d.empty:\n",
    "            d = data \n",
    "        else:\n",
    "            d = d.merge(data, left_on=['protein_accession', 'sample'], right_on=['protein_accession', 'sample'])\n",
    "\n",
    "        d.loc[:, 'line_x'] = np.linspace(0,40,len(d))\n",
    "        d.loc[:, 'line_y'] = np.linspace(0,40,len(d))\n",
    "\n",
    "    protein_comparison = pd.concat([protein_comparison, d])\n",
    "    protein_comparison = protein_comparison.reset_index(drop=True)"
   ]
  },
  {
   "cell_type": "code",
   "execution_count": null,
   "metadata": {},
   "outputs": [],
   "source": [
    "line = alt.Chart(protein_comparison).mark_line(\n",
    "    strokeDash=[5,3],\n",
    "    color='#888888'\n",
    ").encode(\n",
    "    x=alt.X('line_x',\n",
    "        scale=alt.Scale(\n",
    "            domain=[20,40],\n",
    "            clamp=True\n",
    "        )),\n",
    "    y=alt.Y('line_y',\n",
    "        scale=alt.Scale(\n",
    "            domain=[20,40],\n",
    "            clamp=True\n",
    "        ))\n",
    ")\n",
    "\n",
    "dots = alt.Chart(protein_comparison).mark_circle(\n",
    "    size=5,\n",
    "    opacity=0.5\n",
    ").encode(\n",
    "    x=alt.X('PGC_log2:Q', title='PGC',\n",
    "        scale=alt.Scale(\n",
    "            domain=[20,40],\n",
    "            clamp=True\n",
    "        )),\n",
    "    y=alt.Y('RPLC_log2:Q', title='RPLC',\n",
    "        scale=alt.Scale(\n",
    "            domain=[20,40],\n",
    "            clamp=True\n",
    "        )),\n",
    ").properties(\n",
    "    width=300,\n",
    "    height=100\n",
    ")\n",
    "\n",
    "alt.layer(line, dots).facet(\n",
    "    'sample:N'\n",
    ").resolve_scale(\n",
    "    # color='independent'\n",
    ")"
   ]
  },
  {
   "cell_type": "code",
   "execution_count": null,
   "metadata": {},
   "outputs": [],
   "source": [
    "counts[counts.values==4]"
   ]
  },
  {
   "cell_type": "code",
   "execution_count": null,
   "metadata": {},
   "outputs": [],
   "source": [
    "grouped"
   ]
  },
  {
   "cell_type": "code",
   "execution_count": null,
   "metadata": {},
   "outputs": [],
   "source": []
  }
 ],
 "metadata": {
  "kernelspec": {
   "display_name": "Python 3.10.6 64-bit",
   "language": "python",
   "name": "python3"
  },
  "language_info": {
   "codemirror_mode": {
    "name": "ipython",
    "version": 3
   },
   "file_extension": ".py",
   "mimetype": "text/x-python",
   "name": "python",
   "nbconvert_exporter": "python",
   "pygments_lexer": "ipython3",
   "version": "3.10.6 (tags/v3.10.6:9c7b4bd, Aug  1 2022, 21:53:49) [MSC v.1932 64 bit (AMD64)]"
  },
  "orig_nbformat": 4,
  "vscode": {
   "interpreter": {
    "hash": "997be7fa6ee3aea2187d81d19d8bcf997dfd02a0abc6e4a12a1cd736d7582d2d"
   }
  }
 },
 "nbformat": 4,
 "nbformat_minor": 2
}
