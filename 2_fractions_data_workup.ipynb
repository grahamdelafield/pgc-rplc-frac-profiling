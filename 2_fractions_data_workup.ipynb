{
 "cells": [
  {
   "cell_type": "code",
   "execution_count": null,
   "metadata": {},
   "outputs": [],
   "source": [
    "import numpy as np\n",
    "import pandas as pd \n",
    "import altair as alt\n",
    "import re \n",
    "import ntpath \n",
    "\n",
    "from commons import data_processing\n",
    "from commons.DataProcessors import msfragger\n",
    "\n",
    "alt.data_transformers.disable_max_rows()"
   ]
  },
  {
   "cell_type": "code",
   "execution_count": null,
   "metadata": {},
   "outputs": [],
   "source": [
    "files = data_processing.get_files(r'D:\\MSFragger\\20221109', exts=['psm.tsv'])\n",
    "files = [f for f in files if re.search('F\\d', f)]\n",
    "msf = None\n",
    "for file in files:\n",
    "    m = msfragger.msf_processor([file])\n",
    "    dirname = ntpath.dirname(file)\n",
    "    fraction = dirname.split('\\\\')[-1]\n",
    "    column = dirname.split('\\\\')[-2].split('_')[1]\n",
    "    m.add_special_column('fraction', fraction)\n",
    "    m.add_special_column('column', column)\n",
    "\n",
    "    if msf is None:\n",
    "        msf = m\n",
    "    else:\n",
    "        msf.join_processors(m)\n",
    "df = msf.data\n",
    "msf"
   ]
  },
  {
   "cell_type": "code",
   "execution_count": null,
   "metadata": {},
   "outputs": [],
   "source": [
    "no_mods = df[df.modified_peptide.isna()].index\n",
    "df.loc[no_mods, \"modified_peptide\"] = df.loc[no_mods, \"peptide\"]\n",
    "df"
   ]
  },
  {
   "cell_type": "code",
   "execution_count": null,
   "metadata": {},
   "outputs": [],
   "source": [
    "avg = df.groupby(['column', 'fraction', 'modified_peptide', 'peptide',]).mean()\n",
    "avg.loc[:, 'retention_min'] = avg.retention/60"
   ]
  },
  {
   "cell_type": "code",
   "execution_count": null,
   "metadata": {},
   "outputs": [],
   "source": [
    "overlap = 1\n",
    "\n",
    "alt.Chart(avg.reset_index(), height=40).mark_area(\n",
    "    opacity=0.8,\n",
    "    stroke='lightgray',\n",
    "    strokeWidth=0.5\n",
    ").transform_density(\n",
    "    'retention_min',\n",
    "    as_ = ['retention_min', 'density'],\n",
    "    groupby=['fraction', 'column',]\n",
    ").encode(\n",
    "    x=alt.X('retention_min:Q', title='Retention Time (min)',\n",
    "        axis=alt.Axis(grid=False)),\n",
    "    y=alt.Y('density:Q', axis=None,\n",
    "        scale=alt.Scale(range=[40, -5])),\n",
    "    color='column:N'\n",
    ").facet(\n",
    "    row=alt.Row('fraction:N', title=None,\n",
    "        header=alt.Header(labelAngle=0)),\n",
    "    column=alt.Column('column:N', title=None)\n",
    ").configure_facet(\n",
    "    spacing=0\n",
    ").configure_view(\n",
    "    stroke=None\n",
    ").properties(\n",
    "    bounds='flush'\n",
    ")"
   ]
  },
  {
   "cell_type": "code",
   "execution_count": null,
   "metadata": {},
   "outputs": [],
   "source": [
    "d = avg.reset_index()\n",
    "# d = d.drop_duplicates(['modified_peptide', 'fraction'])\n",
    "total = alt.Chart(d).mark_bar().encode(\n",
    "    x=alt.X('column:N', title='', \n",
    "        axis=alt.Axis(labels=False, ticks=False)),\n",
    "    y=alt.Y('distinct(modified_peptide)', title='Unique Peptides'),\n",
    "    color=alt.Color('column:N'),\n",
    "    column=alt.Column('fraction:N')\n",
    ")\n",
    "\n",
    "unique = alt.Chart(d.drop_duplicates(['modified_peptide', 'fraction'])).mark_bar().encode(\n",
    "    x=alt.X('column:N', title='', \n",
    "        axis=alt.Axis(labels=False, ticks=False)),\n",
    "    y=alt.Y('distinct(modified_peptide)', title='Unique Peptides'),\n",
    "    color=alt.Color('column:N'),\n",
    "    column=alt.Column('fraction:N')\n",
    ")\n",
    "\n",
    "total | unique"
   ]
  },
  {
   "cell_type": "code",
   "execution_count": null,
   "metadata": {},
   "outputs": [],
   "source": [
    "from modlamp.descriptors import PeptideDescriptor\n",
    "\n",
    "def pour(seq):\n",
    "    desc = PeptideDescriptor(seq, 'gravy')\n",
    "    desc.calculate_global()\n",
    "    return desc.descriptor[0][0]\n",
    "\n",
    "df.loc[:, 'gravy'] = df.peptide.map(pour)\n",
    "avg = df.groupby(['column', 'modified_peptide', 'peptide']).mean()\n",
    "avg.loc[:, 'retention_min'] = avg.retention/60"
   ]
  },
  {
   "cell_type": "code",
   "execution_count": null,
   "metadata": {},
   "outputs": [],
   "source": [
    "d = avg.reset_index()\n",
    "# d.drop_duplicates('modified_peptide', inplace=True)\n",
    "base = alt.Chart(d).encode(\n",
    "    x=alt.X('retention_min:Q',\n",
    "        bin=alt.Bin(\n",
    "            step=5\n",
    "        )),\n",
    "    y=alt.Y('mean(gravy):Q'),\n",
    "    color='column:N'\n",
    ")\n",
    "\n",
    "base.mark_line(interpolate='basis') + base.mark_errorband(extent='ci', interpolate='basis')"
   ]
  },
  {
   "cell_type": "code",
   "execution_count": null,
   "metadata": {},
   "outputs": [],
   "source": [
    "d = avg.reset_index()\n",
    "d.drop_duplicates('modified_peptide', inplace=True)\n",
    "alt.Chart(d).mark_boxplot().encode(\n",
    "    x='column:N',\n",
    "    y='peptide_length:Q'\n",
    ")\n",
    "\n",
    "# import seaborn as sns \n",
    "# sns.violinplot(x='column', y='gravy', data=avg.reset_index())"
   ]
  },
  {
   "cell_type": "code",
   "execution_count": null,
   "metadata": {},
   "outputs": [],
   "source": [
    "import altair as alt\n",
    "from vega_datasets import data\n",
    "\n",
    "source = data.seattle_weather.url\n",
    "\n",
    "step = 20\n",
    "overlap = 1\n",
    "\n",
    "alt.Chart(source, height=step).transform_timeunit(\n",
    "    Month='month(date)'\n",
    ").transform_joinaggregate(\n",
    "    mean_temp='mean(temp_max)', groupby=['Month']\n",
    ").transform_bin(\n",
    "    ['bin_max', 'bin_min'], 'temp_max'\n",
    ").transform_aggregate(\n",
    "    value='count()', groupby=['Month', 'mean_temp', 'bin_min', 'bin_max']\n",
    ").transform_impute(\n",
    "    impute='value', groupby=['Month', 'mean_temp'], key='bin_min', value=0\n",
    ").mark_area(\n",
    "    interpolate='monotone',\n",
    "    fillOpacity=0.8,\n",
    "    stroke='lightgray',\n",
    "    strokeWidth=0.5\n",
    ").encode(\n",
    "    alt.X('bin_min:Q', bin='binned', title='Maximum Daily Temperature (C)'),\n",
    "    alt.Y(\n",
    "        'value:Q',\n",
    "        scale=alt.Scale(range=[step, -step * overlap]),\n",
    "        axis=None\n",
    "    ),\n",
    "    alt.Fill(\n",
    "        'mean_temp:Q',\n",
    "        legend=None,\n",
    "        scale=alt.Scale(domain=[30, 5], scheme='redyellowblue')\n",
    "    )\n",
    ").facet(\n",
    "    row=alt.Row(\n",
    "        'Month:T',\n",
    "        title=None,\n",
    "        header=alt.Header(labelAngle=0, labelAlign='right', format='%B')\n",
    "    )\n",
    ").properties(\n",
    "    title='Seattle Weather',\n",
    "    bounds='flush'\n",
    ").configure_facet(\n",
    "    spacing=0\n",
    ").configure_view(\n",
    "    stroke=None\n",
    ").configure_title(\n",
    "    anchor='end'\n",
    ")"
   ]
  },
  {
   "cell_type": "code",
   "execution_count": null,
   "metadata": {},
   "outputs": [],
   "source": []
  }
 ],
 "metadata": {
  "kernelspec": {
   "display_name": "Python 3.10.6 64-bit",
   "language": "python",
   "name": "python3"
  },
  "language_info": {
   "codemirror_mode": {
    "name": "ipython",
    "version": 3
   },
   "file_extension": ".py",
   "mimetype": "text/x-python",
   "name": "python",
   "nbconvert_exporter": "python",
   "pygments_lexer": "ipython3",
   "version": "3.10.6"
  },
  "orig_nbformat": 4,
  "vscode": {
   "interpreter": {
    "hash": "997be7fa6ee3aea2187d81d19d8bcf997dfd02a0abc6e4a12a1cd736d7582d2d"
   }
  }
 },
 "nbformat": 4,
 "nbformat_minor": 2
}
