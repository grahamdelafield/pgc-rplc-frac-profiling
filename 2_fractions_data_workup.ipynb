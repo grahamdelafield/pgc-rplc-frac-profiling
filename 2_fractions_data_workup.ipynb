{
 "cells": [
  {
   "cell_type": "code",
   "execution_count": null,
   "metadata": {},
   "outputs": [],
   "source": [
    "import numpy as np\n",
    "import pandas as pd \n",
    "import altair as alt\n",
    "import copy\n",
    "import re \n",
    "import ntpath \n",
    "from commons import data_processing\n",
    "from commons.DataProcessors import msfragger\n",
    "from commons.APICallers import uniprot\n",
    "\n",
    "alt.data_transformers.disable_max_rows()"
   ]
  },
  {
   "cell_type": "code",
   "execution_count": null,
   "metadata": {},
   "outputs": [],
   "source": [
    "files = data_processing.get_files(r'./data/fractions/', exts=['psm.tsv'])\n",
    "\n",
    "# use msfragger module to process data\n",
    "msf = None\n",
    "for file in files:\n",
    "    m = msfragger.msf_processor([file])\n",
    "\n",
    "#     # extract fraction and column info\n",
    "    dirname = ntpath.dirname(file)\n",
    "    spl = re.split(r'[\\\\\\/]', dirname)\n",
    "    column, fraction = spl[-2:]\n",
    "    m.add_special_column('fraction', fraction)\n",
    "    m.add_special_column('column', column)\n",
    "\n",
    "    if msf is None:\n",
    "        msf = m\n",
    "    else:\n",
    "        msf.join_processors(m)\n",
    "\n",
    "# grab data\n",
    "df = msf.data\n",
    "msf"
   ]
  },
  {
   "cell_type": "code",
   "execution_count": null,
   "metadata": {},
   "outputs": [],
   "source": [
    "no_mods = df[df.modified_peptide.isna()].index\n",
    "df.loc[no_mods, \"modified_peptide\"] = df.loc[no_mods, \"peptide\"]\n",
    "df.head(2)"
   ]
  },
  {
   "cell_type": "code",
   "execution_count": null,
   "metadata": {},
   "outputs": [],
   "source": [
    "avg = df.groupby(['column', 'fraction', 'modified_peptide', 'peptide',]).mean()\n",
    "avg.loc[:, 'retention_min'] = avg.retention/60"
   ]
  },
  {
   "cell_type": "code",
   "execution_count": null,
   "metadata": {},
   "outputs": [],
   "source": [
    "column_colors = alt.Color('column:N',\n",
    "    scale=alt.Scale(\n",
    "        domain=[\"PGC\", \"RPLC\"],\n",
    "        range=[\"#D56E3B\", \"#58728C\"]\n",
    "    ))\n",
    "\n",
    "axis_params = alt.Axis(\n",
    "    labelFontSize=14,\n",
    "    labelFontWeight=600,\n",
    "    labelAngle=0,\n",
    "    labelFlush=False\n",
    ")"
   ]
  },
  {
   "cell_type": "code",
   "execution_count": null,
   "metadata": {},
   "outputs": [],
   "source": [
    "overlap = 1\n",
    "\n",
    "alt.Chart(avg.reset_index(), height=40).mark_area(\n",
    "    opacity=1,\n",
    "    stroke='lightgray',\n",
    "    strokeWidth=0.5\n",
    ").transform_density(\n",
    "    'retention_min',\n",
    "    as_ = ['retention_min', 'density'],\n",
    "    groupby=['fraction', 'column',]\n",
    ").encode(\n",
    "    x=alt.X('retention_min:Q', title='Retention Time (min)',\n",
    "        axis=alt.Axis(grid=False)),\n",
    "    y=alt.Y('density:Q', axis=None,\n",
    "        scale=alt.Scale(range=[40, -5])),\n",
    "    color=column_colors\n",
    ").facet(\n",
    "    row=alt.Row('fraction:N', title=None,\n",
    "        header=alt.Header(labelAngle=0)),\n",
    "    column=alt.Column('column:N', title=None)\n",
    ").configure_facet(\n",
    "    spacing=0\n",
    ").configure_view(\n",
    "    stroke=None\n",
    ").properties(\n",
    "    bounds='flush'\n",
    ")"
   ]
  },
  {
   "cell_type": "code",
   "execution_count": null,
   "metadata": {},
   "outputs": [],
   "source": [
    "d = avg.reset_index()\n",
    "# d = d.drop_duplicates(['modified_peptide', 'fraction'])\n",
    "\n",
    "\n",
    "total = alt.Chart(d).mark_bar().encode(\n",
    "    x=alt.X('column:N', title='', \n",
    "        axis=alt.Axis(labels=False, ticks=False)),\n",
    "    y=alt.Y('distinct(modified_peptide)', title='Total Peptides'),\n",
    "    color=column_colors,\n",
    "    column=alt.Column('fraction:N')\n",
    ").properties(\n",
    "    height=250,\n",
    "    width=25\n",
    ")\n",
    "\n",
    "unique_frac = alt.Chart(d.drop_duplicates(['modified_peptide', 'fraction'])).mark_bar().encode(\n",
    "    x=alt.X('column:N', title='', \n",
    "        axis=alt.Axis(labels=False, ticks=False)),\n",
    "    y=alt.Y('distinct(modified_peptide)', title='Unique Peptides (fraction)'),\n",
    "    color=column_colors,\n",
    "    column=alt.Column('fraction:N')\n",
    ").properties(\n",
    "    height=250,\n",
    "    width=25\n",
    ")\n",
    "\n",
    "unique = alt.Chart(d.drop_duplicates(['modified_peptide'], keep=False)).mark_bar().encode(\n",
    "    x=alt.X('column:N', title='', \n",
    "        axis=alt.Axis(labels=False, ticks=False)),\n",
    "    y=alt.Y('distinct(modified_peptide)', title='Unique Peptides'),\n",
    "    color=column_colors,\n",
    "    column=alt.Column('fraction:N')\n",
    ").properties(\n",
    "    height=250,\n",
    "    width=25\n",
    ")\n",
    "\n",
    "# total | unique_frac | unique\n",
    "total | unique"
   ]
  },
  {
   "cell_type": "code",
   "execution_count": null,
   "metadata": {},
   "outputs": [],
   "source": [
    "prot1 = df.groupby(['column', 'fraction', 'protein_id'], as_index=False).mean()\n",
    "prot2 = prot1.drop_duplicates('protein_id', keep=False)\n",
    "\n",
    "\n",
    "base = alt.Chart(prot1).encode(\n",
    "    x=alt.X('fraction:N', title='Fraction'\n",
    "        axis=axis_params),\n",
    "    y=alt.Y('distinct(protein_id):Q', title='Unique Proteins'\n",
    "        axis=axis_params),\n",
    "    color=column_colors,\n",
    "    # column=alt.Column('fraction:N')\n",
    ").properties(\n",
    "    height=150,\n",
    "    width=400\n",
    ")\n",
    "\n",
    "line = base.mark_line(\n",
    "    opacity=0.6,\n",
    "    strokeWidth=3,\n",
    "    strokeDash=[5, 3],\n",
    ")\n",
    "\n",
    "dots = base.mark_circle(size=75)\n",
    "\n",
    "line + dots"
   ]
  },
  {
   "cell_type": "code",
   "execution_count": null,
   "metadata": {},
   "outputs": [],
   "source": [
    "from modlamp.descriptors import PeptideDescriptor\n",
    "\n",
    "def pour(seq):\n",
    "    desc = PeptideDescriptor(seq, 'gravy')\n",
    "    desc.calculate_global()\n",
    "    return desc.descriptor[0][0]\n",
    "\n",
    "df.loc[:, 'gravy'] = df.peptide.map(pour)\n",
    "avg = df.groupby(['column', 'modified_peptide', 'peptide']).mean()\n",
    "avg.loc[:, 'retention_min'] = avg.retention/60"
   ]
  },
  {
   "cell_type": "code",
   "execution_count": null,
   "metadata": {},
   "outputs": [],
   "source": [
    "d = avg.reset_index()\n",
    "# d.drop_duplicates('modified_peptide', inplace=True)\n",
    "base = alt.Chart(d).encode(\n",
    "    x=alt.X('retention_min:Q',\n",
    "        bin=alt.Bin(\n",
    "            step=5\n",
    "        )),\n",
    "    y=alt.Y('mean(gravy):Q'),\n",
    "    color=column_colors\n",
    ")\n",
    "\n",
    "line = base.mark_line(interpolate='basis') \n",
    "band = base.mark_errorband(extent='ci', interpolate='basis')\n",
    "\n",
    "line + band"
   ]
  },
  {
   "cell_type": "code",
   "execution_count": null,
   "metadata": {},
   "outputs": [],
   "source": [
    "d = avg.reset_index()\n",
    "d.drop_duplicates('modified_peptide', inplace=True, keep=False)\n",
    "alt.Chart(d).mark_boxplot().encode(\n",
    "    x='column:N',\n",
    "    y='peptide_length:Q'\n",
    ")\n",
    "\n",
    "# import seaborn as sns \n",
    "# sns.violinplot(x='column', y='peptide_length', data=d)\n",
    "\n",
    "x_axis = axis_params.copy()\n",
    "x_axis[\"labels\"] = False\n",
    "x_axis[\"ticks\"] = False\n",
    "x_axis[\"grid\"] = False\n",
    "\n",
    "alt.Chart(d, width=100).mark_circle(\n",
    "    size=8,\n",
    "    opacity=0.2\n",
    ").encode(\n",
    "    x=alt.X('jitter:Q', title='',\n",
    "        axis=x_axis),\n",
    "    y=alt.Y('peptide_length:Q', title='Peptide Length',\n",
    "        axis=axis_params),\n",
    "    column=alt.Column('column:N'),\n",
    "    color=column_colors\n",
    ").transform_calculate(\n",
    "    # Generate Gaussian jitter with a Box-Muller transform\n",
    "    jitter='sqrt(-2*log(random()))*cos(2*PI*random())'\n",
    ").configure_facet(\n",
    "    spacing=0\n",
    ").configure_view(\n",
    "    stroke=None\n",
    ")"
   ]
  },
  {
   "cell_type": "code",
   "execution_count": null,
   "metadata": {},
   "outputs": [],
   "source": [
    "import seaborn as sns \n",
    "# sns.violinplot(x='column', y='peptide_length', data=d)\n",
    "alt.Chart(d, width=100).mark_boxplot(opacity=0.5, size=50).encode(\n",
    "    # x='column:N',\n",
    "    y=alt.Y('peptide_length:Q', title='Peptie Length',\n",
    "        axis=axis_params),\n",
    "    column=alt.Column('column:N'),\n",
    "    color=column_colors\n",
    ").configure_facet(\n",
    "    spacing=0\n",
    ").configure_view(\n",
    "    stroke=None\n",
    ")"
   ]
  },
  {
   "cell_type": "code",
   "execution_count": null,
   "metadata": {},
   "outputs": [],
   "source": [
    "from importlib import reload \n",
    "reload(uniprot)\n",
    "accs = df.protein_id.unique()\n",
    "print(len(accs))\n",
    "loc_map = {}\n",
    "for i in range(0, len(accs)+1000, 500):\n",
    "    sent = accs[i:i+500]\n",
    "    call = uniprot.send_accessions(sent)\n",
    "    resp = uniprot.parse_response(call, wanted_value='sc_location')\n",
    "    loc_map.update(resp)\n",
    "\n",
    "df.loc[:, 'sub_location'] = df.protein_id.map(loc_map)\n"
   ]
  },
  {
   "cell_type": "code",
   "execution_count": null,
   "metadata": {},
   "outputs": [],
   "source": [
    "df.loc[:, 'sub_location'] = df.protein_id.map(loc_map)"
   ]
  },
  {
   "cell_type": "code",
   "execution_count": null,
   "metadata": {},
   "outputs": [],
   "source": [
    "df.loc[(~df.sub_location.isna()), 'sub_location'] = df.loc[(~df.sub_location.isna()), 'sub_location'].map(lambda x: x.split(',')[0])"
   ]
  },
  {
   "cell_type": "code",
   "execution_count": null,
   "metadata": {},
   "outputs": [],
   "source": [
    "reduced = df.drop_duplicates('modified_peptide', keep=False)\n",
    "reduced = reduced.groupby(['column', 'sub_location', 'protein_id'], as_index=False).count()\n",
    "reduced = reduced.iloc[:, :3].groupby(['column', 'sub_location'], as_index=False).count()\n",
    "reduced = reduced[reduced.protein_id>=100]\n",
    "# pgc_comp_count = reduced[reduced.column=='PGC'].iloc[:, :3]\n",
    "# rplc_comp_count = reduced[reduced.column=='RPLC'].iloc[:, :3]\n",
    "\n",
    "alt.Chart(reduced).mark_arc().encode(\n",
    "    # x=alt.X('column:N'),\n",
    "    theta=alt.Theta('protein_id:Q'),\n",
    "    color=column_colors,\n",
    "    facet=alt.Facet('sub_location:N', columns=5)\n",
    ").resolve_scale(\n",
    "    theta='independent'\n",
    ").properties(\n",
    "    width=75,\n",
    "    height=75\n",
    ")\n"
   ]
  },
  {
   "cell_type": "code",
   "execution_count": null,
   "metadata": {},
   "outputs": [],
   "source": [
    "reduced = df.drop_duplicates(['sub_location', 'protein_id'], keep=False)\n",
    "reduced = reduced.groupby(['column', 'sub_location', 'protein_id'], as_index=False).count()\n",
    "reduced = reduced.groupby(['column', 'sub_location'], as_index=False).count()\n",
    "\n",
    "valid = reduced.groupby('sub_location', as_index=False).sum()\n",
    "valid = valid[valid.protein_id >= 10]\n",
    "\n",
    "reduced = reduced[reduced.sub_location.isin(valid.sub_location)]\n",
    "\n",
    "alt.Chart(reduced).mark_arc().encode(\n",
    "    # x=alt.X('column:N'),\n",
    "    theta=alt.Theta('protein_id:Q'),\n",
    "    color=column_colors,\n",
    "    facet=alt.Facet('sub_location:N', columns=5)\n",
    ").resolve_scale(\n",
    "    theta='independent'\n",
    ").properties(\n",
    "    width=75,\n",
    "    height=75\n",
    ")"
   ]
  },
  {
   "cell_type": "code",
   "execution_count": null,
   "metadata": {},
   "outputs": [],
   "source": [
    "df.columns"
   ]
  }
 ],
 "metadata": {
  "kernelspec": {
   "display_name": "Python 3.10.4 64-bit",
   "language": "python",
   "name": "python3"
  },
  "language_info": {
   "codemirror_mode": {
    "name": "ipython",
    "version": 3
   },
   "file_extension": ".py",
   "mimetype": "text/x-python",
   "name": "python",
   "nbconvert_exporter": "python",
   "pygments_lexer": "ipython3",
   "version": "3.10.4"
  },
  "orig_nbformat": 4,
  "vscode": {
   "interpreter": {
    "hash": "251d0f0bb5f1e19110d9303eadcc132be9bfe80444a6f97cdc41b48d9c9b21c5"
   }
  }
 },
 "nbformat": 4,
 "nbformat_minor": 2
}
