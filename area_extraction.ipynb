{
 "cells": [
  {
   "cell_type": "code",
   "execution_count": null,
   "metadata": {},
   "outputs": [],
   "source": [
    "import numpy as np\n",
    "import pandas as pd\n",
    "import altair as alt\n",
    "\n",
    "from matplotlib import pyplot as plt"
   ]
  },
  {
   "cell_type": "code",
   "execution_count": null,
   "metadata": {},
   "outputs": [],
   "source": [
    "xl = pd.ExcelFile(r\"F:\\T10.MT10_Integration_MultiWave.xlsx\")\n",
    "sheets = xl.sheet_names\n",
    "\n",
    "def read_sheet(sheet):\n",
    "    df = pd.read_excel(xl, sheet_name=sheet)\n",
    "\n",
    "\n",
    "    equal_part = 100 / 8 \n",
    "    area = df['% Area'].tolist()\n",
    "    times = df['Retention Time'].tolist()\n",
    "\n",
    "    i = 0\n",
    "    chunk_start = 0\n",
    "    total = 0\n",
    "    chunks = []\n",
    "    while i < len(area):\n",
    "        total += area[i]\n",
    "        if total >= equal_part:\n",
    "            chunks.append([times[chunk_start], times[i], total])\n",
    "            chunk_start = i\n",
    "            total = 0\n",
    "        i += 1\n",
    "    chunks[-1][1] = times[-1]\n",
    "    # chunks[-1][-1] += area[-1]\n",
    "    arr = np.array(chunks)\n",
    "    np.sum(arr, axis=0)\n",
    "    return sheet, arr, np.sum(arr, axis=0)\n",
    "\n",
    "read_sheet(sheets[0])"
   ]
  },
  {
   "cell_type": "code",
   "execution_count": null,
   "metadata": {},
   "outputs": [],
   "source": [
    "read_sheet(sheets[1])"
   ]
  },
  {
   "cell_type": "code",
   "execution_count": null,
   "metadata": {},
   "outputs": [],
   "source": [
    "df = pd.read_excel(xl, sheet_name=sheets[1])\n",
    "t = df.loc[(df['Retention Time']>=49.914) & (df['Retention Time']<=62.505)]\n",
    "df.iloc[:8, :].sum(axis=0)"
   ]
  }
 ],
 "metadata": {
  "kernelspec": {
   "display_name": "Python 3.10.6 64-bit",
   "language": "python",
   "name": "python3"
  },
  "language_info": {
   "codemirror_mode": {
    "name": "ipython",
    "version": 3
   },
   "file_extension": ".py",
   "mimetype": "text/x-python",
   "name": "python",
   "nbconvert_exporter": "python",
   "pygments_lexer": "ipython3",
   "version": "3.10.6"
  },
  "orig_nbformat": 4,
  "vscode": {
   "interpreter": {
    "hash": "997be7fa6ee3aea2187d81d19d8bcf997dfd02a0abc6e4a12a1cd736d7582d2d"
   }
  }
 },
 "nbformat": 4,
 "nbformat_minor": 2
}
