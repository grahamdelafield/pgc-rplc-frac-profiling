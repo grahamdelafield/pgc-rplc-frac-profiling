{
 "cells": [
  {
   "cell_type": "code",
   "execution_count": null,
   "metadata": {},
   "outputs": [],
   "source": [
    "import numpy as np\n",
    "import pandas as pd \n",
    "import altair as alt\n",
    "import re \n",
    "import ntpath\n",
    "from commons import data_processing\n",
    "from commons import common_objects as co\n",
    "import matplotlib.pyplot as plt\n",
    "from venn import venn\n",
    "from scipy import stats, signal\n",
    "from matplotlib_venn import venn2\n",
    "import warnings\n",
    "\n",
    "warnings.filterwarnings('ignore')\n",
    "alt.data_transformers.disable_max_rows()"
   ]
  },
  {
   "cell_type": "markdown",
   "metadata": {},
   "source": []
  },
  {
   "cell_type": "code",
   "execution_count": null,
   "metadata": {},
   "outputs": [],
   "source": [
    "# pgc = data_processing.get_files(r'./data/DIA', exts=['parquet'])\n",
    "# rplc = data_processing.get_files(r'./data/DIA/', exts=['parquet'])\n",
    "files = data_processing.get_files(r'./data/DIA', exts=['parquet'])\n",
    "column_colors = alt.Color('column:N',\n",
    "    scale=alt.Scale(\n",
    "        domain=[\"PGC\", \"RPLC\"],\n",
    "        range=[\"#D56E3B\", \"#58728C\"]\n",
    "    ))\n"
   ]
  },
  {
   "cell_type": "code",
   "execution_count": null,
   "metadata": {},
   "outputs": [],
   "source": [
    "df = pd.DataFrame()\n",
    "\n",
    "for file in files:\n",
    "\n",
    "    _df = pd.read_parquet(file)\n",
    "    col = ntpath.dirname(file).split('\\\\')[-1]\n",
    "    _df.loc[:, 'column'] = col \n",
    "\n",
    "    _df.loc[:, 'sample'] = _df.Run.map(lambda x: x.split('_')[-3])\n",
    "    _df.loc[:, 'tech_rep'] = _df.Run.map(lambda x: x.split('_')[-1])\n",
    "\n",
    "    df = pd.concat([df, _df])\n",
    "    df.reset_index(inplace=True, drop=True)"
   ]
  },
  {
   "cell_type": "code",
   "execution_count": null,
   "metadata": {},
   "outputs": [],
   "source": [
    "g = df.groupby(['sample', 'column', 'Modified.Sequence']).mean()\n",
    "\n",
    "samples = df['sample'].unique()\n",
    "columns = df['column'].unique()\n",
    "\n",
    "fig, axs = plt.subplots(1, 2, figsize=(10,5))\n",
    "i = 0\n",
    "for s in samples:\n",
    "    overlap = {}\n",
    "    for c in columns:\n",
    "        small = g.loc[(s, c), :]\n",
    "        small.reset_index(inplace=True)\n",
    "        overlap[c] = set(small[\"Modified.Sequence\"].tolist())\n",
    "    venn(overlap, ax=axs[i])\n",
    "    axs[i].set_title(s)\n",
    "\n",
    "    i += 1\n",
    "\n",
    "g = df.groupby(['column', 'Modified.Sequence']).mean()\n",
    "overlap = {}\n",
    "for c in columns:\n",
    "    small = g.loc[(c), :]\n",
    "    small.reset_index(inplace=True)\n",
    "    overlap[c] = set(small[\"Modified.Sequence\"].tolist())\n",
    "venn(overlap)\n"
   ]
  },
  {
   "cell_type": "code",
   "execution_count": null,
   "metadata": {},
   "outputs": [],
   "source": [
    "d = df[(df[\"Proteotypic\"]==1)&(df[\"Protein.Q.Value\"]<=0.01)]\n",
    "d = d.groupby(['sample', 'column', 'Protein.Ids']).mean()\n",
    "\n",
    "samples = df['sample'].unique()\n",
    "\n",
    "fig, axs = plt.subplots(1, 2)\n",
    "i = 0\n",
    "for s in samples:\n",
    "    overlap = {}\n",
    "    for c in columns:\n",
    "        small = d.loc[(s, c), :]\n",
    "        small.reset_index(inplace=True)\n",
    "        overlap[c] = set(small[\"Protein.Ids\"].tolist())\n",
    "    venn(overlap, ax=axs[i])\n",
    "    axs[i].set_title(s)\n",
    "\n",
    "    i += 1\n",
    "\n",
    "d = df[(df[\"Proteotypic\"]==1)&(df[\"Protein.Q.Value\"]<=0.01)]\n",
    "d = d.groupby(['column', 'Protein.Ids']).mean()\n",
    "\n",
    "overlap = {}\n",
    "for c in columns:\n",
    "    small = d.loc[(c), :]\n",
    "    small.reset_index(inplace=True)\n",
    "    overlap[c] = set(small[\"Protein.Ids\"].tolist())\n",
    "venn(overlap)"
   ]
  },
  {
   "cell_type": "code",
   "execution_count": null,
   "metadata": {},
   "outputs": [],
   "source": []
  }
 ],
 "metadata": {
  "kernelspec": {
   "display_name": "Python 3",
   "language": "python",
   "name": "python3"
  },
  "language_info": {
   "codemirror_mode": {
    "name": "ipython",
    "version": 3
   },
   "file_extension": ".py",
   "mimetype": "text/x-python",
   "name": "python",
   "nbconvert_exporter": "python",
   "pygments_lexer": "ipython3",
   "version": "3.10.6 (tags/v3.10.6:9c7b4bd, Aug  1 2022, 21:53:49) [MSC v.1932 64 bit (AMD64)]"
  },
  "orig_nbformat": 4,
  "vscode": {
   "interpreter": {
    "hash": "997be7fa6ee3aea2187d81d19d8bcf997dfd02a0abc6e4a12a1cd736d7582d2d"
   }
  }
 },
 "nbformat": 4,
 "nbformat_minor": 2
}
