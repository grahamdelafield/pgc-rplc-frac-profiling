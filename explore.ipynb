{
 "cells": [
  {
   "cell_type": "code",
   "execution_count": null,
   "metadata": {},
   "outputs": [],
   "source": [
    "import numpy as np\n",
    "import pandas as pd \n",
    "import altair as alt\n",
    "import re \n",
    "from commons import data_processing\n",
    "import matplotlib.pyplot as plt\n",
    "from venn import venn\n",
    "from matplotlib_venn import venn2\n",
    "\n",
    "alt.data_transformers.disable_max_rows()"
   ]
  },
  {
   "cell_type": "code",
   "execution_count": null,
   "metadata": {},
   "outputs": [],
   "source": [
    "pgc = data_processing.get_files(r'D:\\DIA-NN\\20221109\\PGC', exts=['PGC.tsv'])[0]\n",
    "rplc = data_processing.get_files(r'D:\\DIA-NN\\20221109\\RPLC', exts=['RPLC.tsv'])[0]\n"
   ]
  },
  {
   "cell_type": "code",
   "execution_count": null,
   "metadata": {},
   "outputs": [],
   "source": [
    "files = [rplc, pgc]\n",
    "columns = ['RPLC', 'PGC']\n",
    "\n",
    "df = pd.DataFrame()\n",
    "\n",
    "for (col, file) in zip(columns, files):\n",
    "    print(col, file)\n",
    "    _df = pd.read_csv(file, delimiter='\\t')\n",
    "    _df.loc[:, 'column'] = col \n",
    "    _df.loc[:, 'sample'] = _df.Run.map(lambda x: x.split('_')[-3])\n",
    "    _df.loc[:, 'tech_rep'] = _df.Run.map(lambda x: x.split('_')[-1])\n",
    "\n",
    "    df = pd.concat([df, _df])\n",
    "    df.reset_index(inplace=True, drop=True)\n",
    "df"
   ]
  },
  {
   "cell_type": "code",
   "execution_count": null,
   "metadata": {},
   "outputs": [],
   "source": [
    "d = df[(df[\"Proteotypic\"]==1)&(df[\"Protein.Q.Value\"]<=0.01)]\n",
    "d = d.groupby(['sample', 'column', 'Protein.Ids']).mean()\n",
    "\n",
    "samples = df['sample'].unique()\n",
    "\n",
    "fig, axs = plt.subplots(1, 2)\n",
    "i = 0\n",
    "for s in samples:\n",
    "    overlap = {}\n",
    "    for c in columns:\n",
    "        small = d.loc[(s, c), :]\n",
    "        small.reset_index(inplace=True)\n",
    "        overlap[c] = set(small[\"Protein.Ids\"].tolist())\n",
    "    venn(overlap, ax=axs[i])\n",
    "    axs[i].set_title(s)\n",
    "\n",
    "    i += 1"
   ]
  },
  {
   "cell_type": "code",
   "execution_count": null,
   "metadata": {},
   "outputs": [],
   "source": [
    "alt.Chart(d.reset_index()).mark_bar().encode(\n",
    "    x=alt.X('RT:Q', title='RT',\n",
    "        bin=alt.Bin(\n",
    "            step=5\n",
    "        )),\n",
    "    y=alt.Y('count():Q', title=''),\n",
    "    color=alt.Color('column:N'),\n",
    "    row='sample:N'\n",
    ")"
   ]
  },
  {
   "cell_type": "code",
   "execution_count": null,
   "metadata": {},
   "outputs": [],
   "source": []
  }
 ],
 "metadata": {
  "kernelspec": {
   "display_name": "Python 3.10.6 64-bit",
   "language": "python",
   "name": "python3"
  },
  "language_info": {
   "codemirror_mode": {
    "name": "ipython",
    "version": 3
   },
   "file_extension": ".py",
   "mimetype": "text/x-python",
   "name": "python",
   "nbconvert_exporter": "python",
   "pygments_lexer": "ipython3",
   "version": "3.10.6"
  },
  "orig_nbformat": 4,
  "vscode": {
   "interpreter": {
    "hash": "997be7fa6ee3aea2187d81d19d8bcf997dfd02a0abc6e4a12a1cd736d7582d2d"
   }
  }
 },
 "nbformat": 4,
 "nbformat_minor": 2
}
